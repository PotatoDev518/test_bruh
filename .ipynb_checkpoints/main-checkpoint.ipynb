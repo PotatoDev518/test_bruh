{
 "cells": [
  {
   "cell_type": "code",
   "execution_count": 1,
   "id": "74023a3a-7352-4641-99fb-8eb421ea70b0",
   "metadata": {
    "tags": []
   },
   "outputs": [],
   "source": [
    "import matplotlib.pyplot as plt\n"
   ]
  },
  {
   "cell_type": "code",
   "execution_count": 1,
   "id": "76fdd6a2-fe26-43cd-bc73-d404807d6372",
   "metadata": {
    "tags": []
   },
   "outputs": [
    {
     "name": "stdout",
     "output_type": "stream",
     "text": [
      "hello\n",
      "1\n",
      "2\n",
      "2\n",
      "2\n",
      "4\n",
      "2\n",
      "2\n",
      "1\n",
      "2\n",
      "1\n",
      "21\n"
     ]
    }
   ],
   "source": [
    "print(\"hello\")\n",
    "for i in list((1,2,2,2,4,2,2,1,2,1,21,)): print(i)"
   ]
  }
 ],
 "metadata": {
  "kernelspec": {
   "display_name": "Python 3 (ipykernel)",
   "language": "python",
   "name": "python3"
  },
  "language_info": {
   "codemirror_mode": {
    "name": "ipython",
    "version": 3
   },
   "file_extension": ".py",
   "mimetype": "text/x-python",
   "name": "python",
   "nbconvert_exporter": "python",
   "pygments_lexer": "ipython3",
   "version": "3.9.7"
  }
 },
 "nbformat": 4,
 "nbformat_minor": 5
}
